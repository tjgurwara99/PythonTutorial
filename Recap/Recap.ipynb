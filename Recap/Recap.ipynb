{
 "cells": [
  {
   "cell_type": "markdown",
   "id": "professional-welcome",
   "metadata": {},
   "source": [
    "# Basic Operations and types\n",
    "\n",
    "### Python as a calculator"
   ]
  },
  {
   "cell_type": "code",
   "execution_count": 1,
   "id": "stopped-flashing",
   "metadata": {},
   "outputs": [
    {
     "data": {
      "text/plain": [
       "3"
      ]
     },
     "execution_count": 1,
     "metadata": {},
     "output_type": "execute_result"
    }
   ],
   "source": [
    "1 + 2 #outputs 3 but doesn't print it in the output buffer (not sure what its called in python language)"
   ]
  },
  {
   "cell_type": "code",
   "execution_count": 2,
   "id": "spread-equilibrium",
   "metadata": {},
   "outputs": [
    {
     "data": {
      "text/plain": [
       "'Hello world!'"
      ]
     },
     "execution_count": 2,
     "metadata": {},
     "output_type": "execute_result"
    }
   ],
   "source": [
    "\"Hello\" + \" world!\" # concatenates str types (joins strings)"
   ]
  },
  {
   "cell_type": "code",
   "execution_count": 3,
   "id": "agricultural-fundamentals",
   "metadata": {},
   "outputs": [
    {
     "ename": "TypeError",
     "evalue": "unsupported operand type(s) for +: 'int' and 'str'",
     "output_type": "error",
     "traceback": [
      "\u001b[0;31m---------------------------------------------------------------------------\u001b[0m",
      "\u001b[0;31mTypeError\u001b[0m                                 Traceback (most recent call last)",
      "\u001b[0;32m<ipython-input-3-86801a5aa06f>\u001b[0m in \u001b[0;36m<module>\u001b[0;34m\u001b[0m\n\u001b[0;32m----> 1\u001b[0;31m \u001b[0;36m1\u001b[0m \u001b[0;34m+\u001b[0m \u001b[0;34m\"hello\"\u001b[0m \u001b[0;31m# gives an error (can you explain why?)\u001b[0m\u001b[0;34m\u001b[0m\u001b[0;34m\u001b[0m\u001b[0m\n\u001b[0m",
      "\u001b[0;31mTypeError\u001b[0m: unsupported operand type(s) for +: 'int' and 'str'"
     ]
    }
   ],
   "source": [
    "1 + \"hello\" # gives an error (can you explain why?)"
   ]
  },
  {
   "cell_type": "code",
   "execution_count": 4,
   "id": "anticipated-hopkins",
   "metadata": {},
   "outputs": [
    {
     "data": {
      "text/plain": [
       "'hahahahahaha'"
      ]
     },
     "execution_count": 4,
     "metadata": {},
     "output_type": "execute_result"
    }
   ],
   "source": [
    "3 * \"haha\" # Did you expect that output?"
   ]
  },
  {
   "cell_type": "markdown",
   "id": "endless-helmet",
   "metadata": {},
   "source": [
    "### Logical operators"
   ]
  },
  {
   "cell_type": "code",
   "execution_count": 15,
   "id": "respective-translator",
   "metadata": {},
   "outputs": [
    {
     "data": {
      "text/plain": [
       "False"
      ]
     },
     "execution_count": 15,
     "metadata": {},
     "output_type": "execute_result"
    }
   ],
   "source": [
    "# what will be the output of the following\n",
    "\n",
    "True and False"
   ]
  },
  {
   "cell_type": "code",
   "execution_count": 24,
   "id": "hundred-salon",
   "metadata": {},
   "outputs": [
    {
     "data": {
      "text/plain": [
       "False"
      ]
     },
     "execution_count": 24,
     "metadata": {},
     "output_type": "execute_result"
    }
   ],
   "source": [
    "True & False # there are subtle differences between the `and` and `&` operator. Do you remember what they were?"
   ]
  },
  {
   "cell_type": "code",
   "execution_count": 16,
   "id": "developed-festival",
   "metadata": {},
   "outputs": [
    {
     "data": {
      "text/plain": [
       "True"
      ]
     },
     "execution_count": 16,
     "metadata": {},
     "output_type": "execute_result"
    }
   ],
   "source": [
    "# What about this?\n",
    "\n",
    "True or False"
   ]
  },
  {
   "cell_type": "code",
   "execution_count": 23,
   "id": "tough-trade",
   "metadata": {},
   "outputs": [
    {
     "data": {
      "text/plain": [
       "True"
      ]
     },
     "execution_count": 23,
     "metadata": {},
     "output_type": "execute_result"
    }
   ],
   "source": [
    "True | False # there are subtle differences between the `or` and `|` operator. Do you remember what they were?"
   ]
  },
  {
   "cell_type": "markdown",
   "id": "artistic-academy",
   "metadata": {},
   "source": [
    "### Coersion (AKA type casting in other languages)"
   ]
  },
  {
   "cell_type": "code",
   "execution_count": 25,
   "id": "appropriate-correction",
   "metadata": {},
   "outputs": [],
   "source": [
    "a = 1 # we know that this is of type int (check it with the type in-built function!!)\n",
    "\n",
    "# suppose I am working with a string where I want to include the value of a inside another string\n",
    "# how can we do it? Try thinking about it before looking at the answer."
   ]
  },
  {
   "cell_type": "code",
   "execution_count": 26,
   "id": "polish-agriculture",
   "metadata": {},
   "outputs": [
    {
     "data": {
      "text/plain": [
       "'Hello 1'"
      ]
     },
     "execution_count": 26,
     "metadata": {},
     "output_type": "execute_result"
    }
   ],
   "source": [
    "# I'm simplifying this in saying that I want to create a string \"Hello 1\"\n",
    "\n",
    "s = \"Hello \"\n",
    "\n",
    "s + str(a) # the str() is basically coersing (casting) the int into the str type\n",
    "#            there is some conversion cost but, for this case we don't worry about\n",
    "#            the cost of this conversion."
   ]
  },
  {
   "cell_type": "markdown",
   "id": "adjusted-seating",
   "metadata": {},
   "source": [
    "Can you list all (or some) of the common data types in python?"
   ]
  },
  {
   "cell_type": "markdown",
   "id": "honey-fossil",
   "metadata": {},
   "source": [
    "### Functions"
   ]
  },
  {
   "cell_type": "markdown",
   "id": "contemporary-spice",
   "metadata": {},
   "source": [
    "I consider a function to be a black box which takes in something and spits out something (very vague I know but bear with me)"
   ]
  },
  {
   "cell_type": "markdown",
   "id": "concerned-emission",
   "metadata": {},
   "source": [
    "How do you picture a function in Maths? Can you see what $f(x) = x + 1$ does?"
   ]
  },
  {
   "cell_type": "code",
   "execution_count": 27,
   "id": "enhanced-exercise",
   "metadata": {},
   "outputs": [],
   "source": [
    "# the following is equavalent to the function f defined above\n",
    "\n",
    "def f(x):\n",
    "    return x + 1"
   ]
  },
  {
   "cell_type": "code",
   "execution_count": 28,
   "id": "mysterious-beijing",
   "metadata": {},
   "outputs": [
    {
     "data": {
      "text/plain": [
       "4"
      ]
     },
     "execution_count": 28,
     "metadata": {},
     "output_type": "execute_result"
    }
   ],
   "source": [
    "# What do you think the output of the following code be?\n",
    "f(3)"
   ]
  },
  {
   "cell_type": "markdown",
   "id": "empirical-intermediate",
   "metadata": {},
   "source": [
    "Functions can be composed - similar to how mathematical functions are composed."
   ]
  },
  {
   "cell_type": "code",
   "execution_count": 29,
   "id": "successful-cooperative",
   "metadata": {},
   "outputs": [],
   "source": [
    "def f(x):\n",
    "    return x + 1\n",
    "\n",
    "def g(x):\n",
    "    return x*x # essentially I'm squaring x"
   ]
  },
  {
   "cell_type": "code",
   "execution_count": 30,
   "id": "metallic-realtor",
   "metadata": {},
   "outputs": [
    {
     "data": {
      "text/plain": [
       "16"
      ]
     },
     "execution_count": 30,
     "metadata": {},
     "output_type": "execute_result"
    }
   ],
   "source": [
    "# What do you think the output of the following code be?\n",
    "\n",
    "g(f(3))"
   ]
  },
  {
   "cell_type": "code",
   "execution_count": 32,
   "id": "fossil-heritage",
   "metadata": {},
   "outputs": [
    {
     "data": {
      "text/plain": [
       "10"
      ]
     },
     "execution_count": 32,
     "metadata": {},
     "output_type": "execute_result"
    }
   ],
   "source": [
    "# What about this one?\n",
    "f(g(3))"
   ]
  },
  {
   "cell_type": "markdown",
   "id": "choice-controversy",
   "metadata": {},
   "source": [
    "### Some common data structures"
   ]
  },
  {
   "cell_type": "code",
   "execution_count": 38,
   "id": "lucky-perth",
   "metadata": {},
   "outputs": [
    {
     "name": "stdout",
     "output_type": "stream",
     "text": [
      "j\n",
      "aj\n",
      "7\n"
     ]
    }
   ],
   "source": [
    "# Strings which we have already seen before\n",
    "\n",
    "s = \"Tajmeet\" # I think of strings as sequence of characters\n",
    "\n",
    "print(s[2]) # can you tell me why I used print here?\n",
    "\n",
    "\n",
    "# slicing - modern technique for working with immutable things\n",
    "print(s[1:3]) # Why print?\n",
    "\n",
    "print(len(s)) # Do you remember what len() is?\n",
    "\n",
    "# Try experimenting with the indices i.e number inside the [] next to the variable that represents out string\n",
    "\n",
    "# can you reverse a string?\n"
   ]
  },
  {
   "cell_type": "code",
   "execution_count": 55,
   "id": "pending-beads",
   "metadata": {},
   "outputs": [
    {
     "data": {
      "text/plain": [
       "3"
      ]
     },
     "execution_count": 55,
     "metadata": {},
     "output_type": "execute_result"
    }
   ],
   "source": [
    "# Lists\n",
    "\n",
    "a = [1, 2, 3]\n",
    "\n",
    "# its very similar to strings when we're talking about the indices however there are very subtle differences\n",
    "\n",
    "a[2] # what will the output be?"
   ]
  },
  {
   "cell_type": "code",
   "execution_count": 42,
   "id": "effective-stomach",
   "metadata": {},
   "outputs": [
    {
     "data": {
      "text/plain": [
       "[1, 2, 4]"
      ]
     },
     "execution_count": 42,
     "metadata": {},
     "output_type": "execute_result"
    }
   ],
   "source": [
    "# But the major difference is that Lists are mutable, i.e you can replace something \n",
    "# inside a list but not strings\n",
    "\n",
    "a[2] = 4\n",
    "\n",
    "a\n",
    "\n",
    "# try doing it for strings and see what happens"
   ]
  },
  {
   "cell_type": "code",
   "execution_count": 51,
   "id": "freelance-instrument",
   "metadata": {},
   "outputs": [
    {
     "name": "stdout",
     "output_type": "stream",
     "text": [
      "tajmeeT\n"
     ]
    }
   ],
   "source": [
    "# Creating a function to swap the first and last character \n",
    "# of a string (it has flaws, can you find out when it will not work?)\n",
    "\n",
    "def swap(x):\n",
    "    return x[-1] + x[1:-1] + x[0]\n",
    "\n",
    "# this function works only for strings but not Lists can you see why?\n",
    "\n",
    "# ansList = reverse(a)\n",
    "\n",
    "ansStr = reverse(s)\n",
    "\n",
    "# print(ansList)\n",
    "print(ansStr)"
   ]
  },
  {
   "cell_type": "code",
   "execution_count": 52,
   "id": "whole-aberdeen",
   "metadata": {},
   "outputs": [
    {
     "ename": "IndexError",
     "evalue": "string index out of range",
     "output_type": "error",
     "traceback": [
      "\u001b[0;31m---------------------------------------------------------------------------\u001b[0m",
      "\u001b[0;31mIndexError\u001b[0m                                Traceback (most recent call last)",
      "\u001b[0;32m<ipython-input-52-418a9eb5ec97>\u001b[0m in \u001b[0;36m<module>\u001b[0;34m\u001b[0m\n\u001b[1;32m      1\u001b[0m \u001b[0;31m# This will not work if we have an empty string\u001b[0m\u001b[0;34m\u001b[0m\u001b[0;34m\u001b[0m\u001b[0;34m\u001b[0m\u001b[0m\n\u001b[1;32m      2\u001b[0m \u001b[0;34m\u001b[0m\u001b[0m\n\u001b[0;32m----> 3\u001b[0;31m \u001b[0mswap\u001b[0m\u001b[0;34m(\u001b[0m\u001b[0;34m\"\"\u001b[0m\u001b[0;34m)\u001b[0m\u001b[0;34m\u001b[0m\u001b[0;34m\u001b[0m\u001b[0m\n\u001b[0m",
      "\u001b[0;32m<ipython-input-51-e9bc0fd24f9f>\u001b[0m in \u001b[0;36mswap\u001b[0;34m(x)\u001b[0m\n\u001b[1;32m      3\u001b[0m \u001b[0;34m\u001b[0m\u001b[0m\n\u001b[1;32m      4\u001b[0m \u001b[0;32mdef\u001b[0m \u001b[0mswap\u001b[0m\u001b[0;34m(\u001b[0m\u001b[0mx\u001b[0m\u001b[0;34m)\u001b[0m\u001b[0;34m:\u001b[0m\u001b[0;34m\u001b[0m\u001b[0;34m\u001b[0m\u001b[0m\n\u001b[0;32m----> 5\u001b[0;31m     \u001b[0;32mreturn\u001b[0m \u001b[0mx\u001b[0m\u001b[0;34m[\u001b[0m\u001b[0;34m-\u001b[0m\u001b[0;36m1\u001b[0m\u001b[0;34m]\u001b[0m \u001b[0;34m+\u001b[0m \u001b[0mx\u001b[0m\u001b[0;34m[\u001b[0m\u001b[0;36m1\u001b[0m\u001b[0;34m:\u001b[0m\u001b[0;34m-\u001b[0m\u001b[0;36m1\u001b[0m\u001b[0;34m]\u001b[0m \u001b[0;34m+\u001b[0m \u001b[0mx\u001b[0m\u001b[0;34m[\u001b[0m\u001b[0;36m0\u001b[0m\u001b[0;34m]\u001b[0m\u001b[0;34m\u001b[0m\u001b[0;34m\u001b[0m\u001b[0m\n\u001b[0m\u001b[1;32m      6\u001b[0m \u001b[0;34m\u001b[0m\u001b[0m\n\u001b[1;32m      7\u001b[0m \u001b[0;31m# this function works only for strings but not Lists can you see why?\u001b[0m\u001b[0;34m\u001b[0m\u001b[0;34m\u001b[0m\u001b[0;34m\u001b[0m\u001b[0m\n",
      "\u001b[0;31mIndexError\u001b[0m: string index out of range"
     ]
    }
   ],
   "source": [
    "# This will not work if we have an empty string\n",
    "\n",
    "swap(\"\")"
   ]
  },
  {
   "cell_type": "code",
   "execution_count": 54,
   "id": "instrumental-fetish",
   "metadata": {},
   "outputs": [
    {
     "data": {
      "text/plain": [
       "'TT'"
      ]
     },
     "execution_count": 54,
     "metadata": {},
     "output_type": "execute_result"
    }
   ],
   "source": [
    "# This will also not work properly if we only have one character\n",
    "swap(\"T\") # Can you see why?"
   ]
  },
  {
   "cell_type": "code",
   "execution_count": 57,
   "id": "legal-trinidad",
   "metadata": {},
   "outputs": [
    {
     "data": {
      "text/plain": [
       "['haha', 2, 1.4]"
      ]
     },
     "execution_count": 57,
     "metadata": {},
     "output_type": "execute_result"
    }
   ],
   "source": [
    "# remember that Lists can contain more than one type, for example\n",
    "\n",
    "b = [\"haha\", 2, 1.4]\n",
    "b"
   ]
  },
  {
   "cell_type": "code",
   "execution_count": 68,
   "id": "proud-cherry",
   "metadata": {},
   "outputs": [
    {
     "data": {
      "text/plain": [
       "[1.4, 2, 'haha']"
      ]
     },
     "execution_count": 68,
     "metadata": {},
     "output_type": "execute_result"
    }
   ],
   "source": [
    "# Try and modify the swap function defined for string above to work for lists\n",
    "\n",
    "def swapSimple(x):\n",
    "    pass\n",
    "\n",
    "\n",
    "# The follwing is a bit different to the above approach which changes the state \n",
    "# of the variable that has been passed to it.\n",
    "\n",
    "def swapList(x):\n",
    "    x[0], x[-1] = x[-1], x[0]\n",
    "\n",
    "\n",
    "swapList(b)\n",
    "b # the output of the other one will not be similar if you call b, try it yourself. Can you see why?"
   ]
  },
  {
   "cell_type": "markdown",
   "id": "mineral-hands",
   "metadata": {},
   "source": [
    "### Strange behaviour in Python"
   ]
  },
  {
   "cell_type": "code",
   "execution_count": 70,
   "id": "different-ferry",
   "metadata": {},
   "outputs": [
    {
     "data": {
      "text/plain": [
       "'tajmeeT'"
      ]
     },
     "execution_count": 70,
     "metadata": {},
     "output_type": "execute_result"
    }
   ],
   "source": [
    "# Remember the swap function that we defined for strings\n",
    "\n",
    "h = swap(\"Tajmeet\")\n",
    "h"
   ]
  },
  {
   "cell_type": "code",
   "execution_count": 71,
   "id": "practical-adjustment",
   "metadata": {},
   "outputs": [
    {
     "data": {
      "text/plain": [
       "'Tajmeet'"
      ]
     },
     "execution_count": 71,
     "metadata": {},
     "output_type": "execute_result"
    }
   ],
   "source": [
    "# what happens when we do this\n",
    "\n",
    "def swaps(x):\n",
    "    x = swap(x)\n",
    "\n",
    "s = \"Tajmeet\"\n",
    "swaps(s)\n",
    "s # not what you would expect right? what happened?"
   ]
  },
  {
   "cell_type": "code",
   "execution_count": 72,
   "id": "julian-replication",
   "metadata": {},
   "outputs": [
    {
     "data": {
      "text/plain": [
       "'tajmeeT'"
      ]
     },
     "execution_count": 72,
     "metadata": {},
     "output_type": "execute_result"
    }
   ],
   "source": [
    "# To get the desired behaviour we need to work with something called a global variable\n",
    "\n",
    "def swapss():\n",
    "    global s\n",
    "    s = swap(s)\n",
    "\n",
    "# now when we run this we get what we expected before\n",
    "swapss()\n",
    "\n",
    "s"
   ]
  },
  {
   "cell_type": "code",
   "execution_count": null,
   "id": "knowing-supplement",
   "metadata": {},
   "outputs": [],
   "source": [
    "# Why did that happen?\n",
    "\n",
    "# This is because the way python functions are defined, because in\n",
    "# the previous definition we had something like this\n",
    "\n",
    "def swaps(x):\n",
    "    x = swap(x) # this is actually creating a local variable called x and \n",
    "    #             it gets deleted as soon as we're done with the function.\n",
    "    #             To prevent this we have to work with global variables, i.e. \n",
    "    #             variables that are accessible from everywhere in the program.\n",
    "    #             Note that this description is an oversimplification so you \n",
    "    #             should read up on what is happening.\n",
    "    "
   ]
  },
  {
   "cell_type": "markdown",
   "id": "blank-firewall",
   "metadata": {},
   "source": [
    "## Imperative Programming"
   ]
  },
  {
   "cell_type": "markdown",
   "id": "parental-sending",
   "metadata": {},
   "source": [
    "### Loops and flow control"
   ]
  },
  {
   "cell_type": "code",
   "execution_count": 73,
   "id": "differential-editing",
   "metadata": {},
   "outputs": [],
   "source": [
    "# you should know what an if, elif and else clause are"
   ]
  },
  {
   "cell_type": "code",
   "execution_count": 74,
   "id": "allied-algeria",
   "metadata": {},
   "outputs": [],
   "source": [
    "# you should also be familiar with types of loops, example for and while loops"
   ]
  },
  {
   "cell_type": "markdown",
   "id": "clear-anthropology",
   "metadata": {},
   "source": [
    "## Recursion"
   ]
  },
  {
   "cell_type": "markdown",
   "id": "olympic-illness",
   "metadata": {},
   "source": [
    "A very powerful concept in programming (in my opinion). However, python isn't perhaps the best language to demonstrate its advantages."
   ]
  },
  {
   "cell_type": "code",
   "execution_count": 76,
   "id": "comic-sunday",
   "metadata": {},
   "outputs": [],
   "source": [
    "# this is an interesting topic (in my opinion)\n",
    "\n",
    "def factorial(n):\n",
    "    if n == 0:\n",
    "        return 1\n",
    "    return factorial(n-1) * n\n",
    "\n",
    "# this is a recursive function that is calling itself\n",
    "# It is a very expressive way of writing your programs,\n",
    "# maybe because I'm a mathematician but this is a very \n",
    "# elegant way of writing programs. However, because of the\n",
    "# way that python is written, there were some design choices\n",
    "# that make it very inefficient programming language when \n",
    "# working with recursion\n",
    "\n",
    "# consider the following function\n",
    "\n",
    "\n",
    "def loopFactorial(n):\n",
    "    result = 1\n",
    "    for i in range(1,n+1):\n",
    "        result *= i\n",
    "    return result\n",
    "\n",
    "# while this looks somewhat different, its doing the exact same\n",
    "# things that the function factorial does but it runs in python\n",
    "# more efficiently, i.e loopFactorial runs faster and uses\n",
    "# less resources.\n",
    "\n",
    "\n"
   ]
  },
  {
   "cell_type": "code",
   "execution_count": null,
   "id": "alive-cement",
   "metadata": {},
   "outputs": [],
   "source": []
  }
 ],
 "metadata": {
  "kernelspec": {
   "display_name": "Python 3",
   "language": "python",
   "name": "python3"
  },
  "language_info": {
   "codemirror_mode": {
    "name": "ipython",
    "version": 3
   },
   "file_extension": ".py",
   "mimetype": "text/x-python",
   "name": "python",
   "nbconvert_exporter": "python",
   "pygments_lexer": "ipython3",
   "version": "3.7.4"
  }
 },
 "nbformat": 4,
 "nbformat_minor": 5
}
